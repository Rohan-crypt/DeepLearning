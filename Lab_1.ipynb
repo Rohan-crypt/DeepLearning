{
  "nbformat": 4,
  "nbformat_minor": 0,
  "metadata": {
    "colab": {
      "provenance": [],
      "authorship_tag": "ABX9TyPSYwPvzwiT8UNlEmzjKNwS",
      "include_colab_link": true
    },
    "kernelspec": {
      "name": "python3",
      "display_name": "Python 3"
    },
    "language_info": {
      "name": "python"
    }
  },
  "cells": [
    {
      "cell_type": "markdown",
      "metadata": {
        "id": "view-in-github",
        "colab_type": "text"
      },
      "source": [
        "<a href=\"https://colab.research.google.com/github/Rohan-crypt/DeepLearning/blob/main/Lab_1.ipynb\" target=\"_parent\"><img src=\"https://colab.research.google.com/assets/colab-badge.svg\" alt=\"Open In Colab\"/></a>"
      ]
    },
    {
      "cell_type": "markdown",
      "source": [
        "Basic Neural network implementation for classification using any DL framework(tensorflow/pytorch)."
      ],
      "metadata": {
        "id": "RZDc5xmy3mah"
      }
    },
    {
      "cell_type": "code",
      "execution_count": 2,
      "metadata": {
        "colab": {
          "base_uri": "https://localhost:8080/"
        },
        "id": "WDKtBVM-3l8L",
        "outputId": "368c1ff5-04e4-4a5c-9bf3-ab738cd5b011"
      },
      "outputs": [
        {
          "output_type": "stream",
          "name": "stdout",
          "text": [
            "Data source import complete.\n"
          ]
        }
      ],
      "source": [
        "import kagglehub\n",
        "arshid_iris_flower_dataset_path = kagglehub.dataset_download('arshid/iris-flower-dataset')\n",
        "\n",
        "print('Data source import complete.')"
      ]
    }
  ]
}